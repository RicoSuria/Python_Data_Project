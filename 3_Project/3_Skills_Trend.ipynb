{
 "cells": [
  {
   "cell_type": "markdown",
   "id": "a5ce1ebe",
   "metadata": {},
   "source": [
    "# How are in-demand skills trending for Data Analysts?\n",
    "Methodology\n",
    "1. Aggregate skill counts monthly\n",
    "2. Re-analyze based on percentage of total jobs\n",
    "3. Plot the monthly skill demand"
   ]
  }
 ],
 "metadata": {
  "language_info": {
   "name": "python"
  }
 },
 "nbformat": 4,
 "nbformat_minor": 5
}
